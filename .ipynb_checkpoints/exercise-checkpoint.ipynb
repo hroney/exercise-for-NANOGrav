{
 "cells": [
  {
   "cell_type": "markdown",
   "metadata": {},
   "source": [
    "# Plotting the pulsar data\n",
    "I'm using Bokeh for this exercise. First, I'll import all the requied modules: Pandas for data structures and Bokeh for plotting."
   ]
  },
  {
   "cell_type": "code",
   "execution_count": 1,
   "metadata": {
    "collapsed": false
   },
   "outputs": [],
   "source": [
    "import pandas as pd\n",
    "import bokeh.plotting as plt\n",
    "import bokeh.models as mdls\n",
    "import bokeh.models.tools as tls"
   ]
  },
  {
   "cell_type": "markdown",
   "metadata": {},
   "source": [
    "Then, I'll prepare the environment.  First, I'll read the CSV data from the file without chaning the column names and letting their data type to be infered automatically. Second, I'll set the output of Bokeh to iPython notebook."
   ]
  },
  {
   "cell_type": "code",
   "execution_count": 2,
   "metadata": {
    "collapsed": false
   },
   "outputs": [
    {
     "data": {
      "text/html": [
       "\n",
       "\n",
       "    <script type=\"text/javascript\">\n",
       "      \n",
       "      (function(global) {\n",
       "        function now() {\n",
       "          return new Date();\n",
       "        }\n",
       "      \n",
       "        if (typeof (window._bokeh_onload_callbacks) === \"undefined\") {\n",
       "          window._bokeh_onload_callbacks = [];\n",
       "        }\n",
       "      \n",
       "        function run_callbacks() {\n",
       "          window._bokeh_onload_callbacks.forEach(function(callback) { callback() });\n",
       "          delete window._bokeh_onload_callbacks\n",
       "          console.info(\"Bokeh: all callbacks have finished\");\n",
       "        }\n",
       "      \n",
       "        function load_libs(js_urls, callback) {\n",
       "          window._bokeh_onload_callbacks.push(callback);\n",
       "          if (window._bokeh_is_loading > 0) {\n",
       "            console.log(\"Bokeh: BokehJS is being loaded, scheduling callback at\", now());\n",
       "            return null;\n",
       "          }\n",
       "          if (js_urls == null || js_urls.length === 0) {\n",
       "            run_callbacks();\n",
       "            return null;\n",
       "          }\n",
       "          console.log(\"Bokeh: BokehJS not loaded, scheduling load and callback at\", now());\n",
       "          window._bokeh_is_loading = js_urls.length;\n",
       "          for (var i = 0; i < js_urls.length; i++) {\n",
       "            var url = js_urls[i];\n",
       "            var s = document.createElement('script');\n",
       "            s.src = url;\n",
       "            s.async = false;\n",
       "            s.onreadystatechange = s.onload = function() {\n",
       "              window._bokeh_is_loading--;\n",
       "              if (window._bokeh_is_loading === 0) {\n",
       "                console.log(\"Bokeh: all BokehJS libraries loaded\");\n",
       "                run_callbacks()\n",
       "              }\n",
       "            };\n",
       "            s.onerror = function() {\n",
       "              console.warn(\"failed to load library \" + url);\n",
       "            };\n",
       "            console.log(\"Bokeh: injecting script tag for BokehJS library: \", url);\n",
       "            document.getElementsByTagName(\"head\")[0].appendChild(s);\n",
       "          }\n",
       "        };var js_urls = ['https://cdn.pydata.org/bokeh/release/bokeh-0.11.0.min.js', 'https://cdn.pydata.org/bokeh/release/bokeh-widgets-0.11.0.min.js', 'https://cdn.pydata.org/bokeh/release/bokeh-compiler-0.11.0.min.js'];\n",
       "      \n",
       "        var inline_js = [\n",
       "          function(Bokeh) {\n",
       "            Bokeh.set_log_level(\"info\");\n",
       "          },\n",
       "          function(Bokeh) {\n",
       "            console.log(\"Bokeh: injecting CSS: https://cdn.pydata.org/bokeh/release/bokeh-0.11.0.min.css\");\n",
       "            Bokeh.embed.inject_css(\"https://cdn.pydata.org/bokeh/release/bokeh-0.11.0.min.css\");\n",
       "            console.log(\"Bokeh: injecting CSS: https://cdn.pydata.org/bokeh/release/bokeh-widgets-0.11.0.min.css\");\n",
       "            Bokeh.embed.inject_css(\"https://cdn.pydata.org/bokeh/release/bokeh-widgets-0.11.0.min.css\");\n",
       "          }\n",
       "        ];\n",
       "      \n",
       "        function run_inline_js() {\n",
       "          for (var i = 0; i < inline_js.length; i++) {\n",
       "            inline_js[i](window.Bokeh);\n",
       "          }\n",
       "        }\n",
       "      \n",
       "        if (window._bokeh_is_loading === 0) {\n",
       "          console.log(\"Bokeh: BokehJS loaded, going straight to plotting\");\n",
       "          run_inline_js();\n",
       "        } else {\n",
       "          load_libs(js_urls, function() {\n",
       "            console.log(\"Bokeh: BokehJS plotting callback run at\", now());\n",
       "            run_inline_js();\n",
       "          });\n",
       "        }\n",
       "      }(this));\n",
       "    </script>\n",
       "    <div>\n",
       "        <a href=\"http://bokeh.pydata.org\" target=\"_blank\" class=\"bk-logo bk-logo-small bk-logo-notebook\"></a>\n",
       "        <span>BokehJS successfully loaded.</span>\n",
       "    </div>"
      ]
     },
     "metadata": {},
     "output_type": "display_data"
    }
   ],
   "source": [
    "data = pd.read_csv('pulsar_data_test.csv')\n",
    "plt.output_notebook()"
   ]
  },
  {
   "cell_type": "markdown",
   "metadata": {},
   "source": [
    "The plot I'm going to construct will plot the pulsar period along the X axis and its derivative along the Y axist. Additionaly, I want all the binary systems to be colored as red and all the non-binary systems - as blue. Also, I want the plot points to be of a size proportional to how many time of arrivals we have for a given pulsar.\n",
    "\n",
    "To accomplish all this, I'll add some new columns to the dataset based on the existing ones. I'll prefix their names by `_`, since I want to distinguish between technical and non-technical columns later when implementing the mouse hover tool text."
   ]
  },
  {
   "cell_type": "code",
   "execution_count": 3,
   "metadata": {
    "collapsed": false
   },
   "outputs": [],
   "source": [
    "data.loc[data['Binary'] == 'Y','_color'] = 'red'\n",
    "data.loc[data['Binary'] != 'Y','_color'] = 'blue'\n",
    "data['_size'] = data['TOAs'].astype(float) / 1000 + 4"
   ]
  },
  {
   "cell_type": "markdown",
   "metadata": {},
   "source": [
    "Finally, I'll plot the data as described above. The `HoverTool` will output the values of all the columns except the ones prefixed by `_`."
   ]
  },
  {
   "cell_type": "code",
   "execution_count": 4,
   "metadata": {
    "collapsed": false,
    "scrolled": true
   },
   "outputs": [
    {
     "data": {
      "text/html": [
       "\n",
       "\n",
       "    <div class=\"plotdiv\" id=\"434589f2-a25a-4091-ac51-884177f78f9a\"></div>\n",
       "<script type=\"text/javascript\">\n",
       "  \n",
       "  (function(global) {\n",
       "    function now() {\n",
       "      return new Date();\n",
       "    }\n",
       "  \n",
       "    if (typeof (window._bokeh_onload_callbacks) === \"undefined\") {\n",
       "      window._bokeh_onload_callbacks = [];\n",
       "    }\n",
       "  \n",
       "    function run_callbacks() {\n",
       "      window._bokeh_onload_callbacks.forEach(function(callback) { callback() });\n",
       "      delete window._bokeh_onload_callbacks\n",
       "      console.info(\"Bokeh: all callbacks have finished\");\n",
       "    }\n",
       "  \n",
       "    function load_libs(js_urls, callback) {\n",
       "      window._bokeh_onload_callbacks.push(callback);\n",
       "      if (window._bokeh_is_loading > 0) {\n",
       "        console.log(\"Bokeh: BokehJS is being loaded, scheduling callback at\", now());\n",
       "        return null;\n",
       "      }\n",
       "      if (js_urls == null || js_urls.length === 0) {\n",
       "        run_callbacks();\n",
       "        return null;\n",
       "      }\n",
       "      console.log(\"Bokeh: BokehJS not loaded, scheduling load and callback at\", now());\n",
       "      window._bokeh_is_loading = js_urls.length;\n",
       "      for (var i = 0; i < js_urls.length; i++) {\n",
       "        var url = js_urls[i];\n",
       "        var s = document.createElement('script');\n",
       "        s.src = url;\n",
       "        s.async = false;\n",
       "        s.onreadystatechange = s.onload = function() {\n",
       "          window._bokeh_is_loading--;\n",
       "          if (window._bokeh_is_loading === 0) {\n",
       "            console.log(\"Bokeh: all BokehJS libraries loaded\");\n",
       "            run_callbacks()\n",
       "          }\n",
       "        };\n",
       "        s.onerror = function() {\n",
       "          console.warn(\"failed to load library \" + url);\n",
       "        };\n",
       "        console.log(\"Bokeh: injecting script tag for BokehJS library: \", url);\n",
       "        document.getElementsByTagName(\"head\")[0].appendChild(s);\n",
       "      }\n",
       "    };var element = document.getElementById(\"434589f2-a25a-4091-ac51-884177f78f9a\");\n",
       "    if (element == null) {\n",
       "      console.log(\"Bokeh: ERROR: autoload.js configured with elementid '434589f2-a25a-4091-ac51-884177f78f9a' but no matching script tag was found. \")\n",
       "      return false;\n",
       "    }var js_urls = [];\n",
       "  \n",
       "    var inline_js = [\n",
       "      function(Bokeh) {\n",
       "        Bokeh.$(function() {\n",
       "            var docs_json = {\"c9cb5669-e9a0-4985-ab30-42628b804aea\": {\"version\": \"0.11.0\", \"title\": \"Bokeh Application\", \"roots\": {\"references\": [{\"attributes\": {\"line_alpha\": {\"value\": 0.1}, \"line_color\": {\"value\": \"#1f77b4\"}, \"fill_color\": {\"value\": \"#1f77b4\"}, \"size\": {\"units\": \"screen\", \"field\": \"_size\"}, \"fill_alpha\": {\"value\": 0.1}, \"x\": {\"field\": \"Period\"}, \"y\": {\"field\": \"Period Derivative\"}}, \"type\": \"Circle\", \"id\": \"e32fdf49-9c9d-41d7-b5ef-4632a816f877\"}, {\"attributes\": {\"plot\": {\"subtype\": \"Figure\", \"type\": \"Plot\", \"id\": \"bd807d22-386f-49ea-bbd5-ee06afdcb357\"}, \"ticker\": {\"type\": \"BasicTicker\", \"id\": \"45342faf-5201-4642-981d-664a2217240b\"}}, \"type\": \"Grid\", \"id\": \"4a553437-0fb4-44be-9d9b-8078e034a8cf\"}, {\"attributes\": {\"plot\": {\"subtype\": \"Figure\", \"type\": \"Plot\", \"id\": \"bd807d22-386f-49ea-bbd5-ee06afdcb357\"}}, \"type\": \"ResizeTool\", \"id\": \"6c042146-76e2-4f80-8246-d6f832aed170\"}, {\"attributes\": {\"glyph\": {\"type\": \"Circle\", \"id\": \"65caafcd-5f7d-408b-997f-ad3499308db8\"}, \"nonselection_glyph\": {\"type\": \"Circle\", \"id\": \"e32fdf49-9c9d-41d7-b5ef-4632a816f877\"}, \"data_source\": {\"type\": \"ColumnDataSource\", \"id\": \"43e45807-fe00-4b14-b652-c3b26abccefe\"}, \"selection_glyph\": null, \"hover_glyph\": null}, \"type\": \"GlyphRenderer\", \"id\": \"101f9e09-6c9d-46b8-9641-c332d719523c\"}, {\"attributes\": {\"plot\": {\"subtype\": \"Figure\", \"type\": \"Plot\", \"id\": \"bd807d22-386f-49ea-bbd5-ee06afdcb357\"}, \"callback\": null, \"tooltips\": [[\"Pulsar\", \"@{Pulsar}\"], [\"TOAs\", \"@{TOAs}\"], [\"Raw Profiles\", \"@{Raw Profiles}\"], [\"Period\", \"@{Period}\"], [\"Period Derivative\", \"@{Period Derivative}\"], [\"DM\", \"@{DM}\"], [\"RMS\", \"@{RMS}\"], [\"Binary\", \"@{Binary}\"]]}, \"type\": \"HoverTool\", \"id\": \"87fddb37-8175-4360-aeea-5185080a21ef\"}, {\"attributes\": {\"overlay\": {\"type\": \"BoxAnnotation\", \"id\": \"83da3352-2e61-4956-aee8-0f749c7d111a\"}, \"plot\": {\"subtype\": \"Figure\", \"type\": \"Plot\", \"id\": \"bd807d22-386f-49ea-bbd5-ee06afdcb357\"}}, \"type\": \"BoxZoomTool\", \"id\": \"4f3bc6e9-2442-4c1e-8ad8-8afcc85f617f\"}, {\"attributes\": {\"plot\": {\"subtype\": \"Figure\", \"type\": \"Plot\", \"id\": \"bd807d22-386f-49ea-bbd5-ee06afdcb357\"}}, \"type\": \"PreviewSaveTool\", \"id\": \"40933b29-1e78-4af6-a1c6-fb405bbcf0bb\"}, {\"attributes\": {}, \"type\": \"BasicTickFormatter\", \"id\": \"1c4c9eea-89bd-4b33-ae30-bbe83259ce4c\"}, {\"attributes\": {\"callback\": null}, \"type\": \"DataRange1d\", \"id\": \"6e65b829-b65c-469f-b3ad-177b6ff48c8a\"}, {\"attributes\": {\"plot\": {\"subtype\": \"Figure\", \"type\": \"Plot\", \"id\": \"bd807d22-386f-49ea-bbd5-ee06afdcb357\"}, \"ticker\": {\"type\": \"BasicTicker\", \"id\": \"45342faf-5201-4642-981d-664a2217240b\"}, \"formatter\": {\"type\": \"BasicTickFormatter\", \"id\": \"229e0528-8e22-41a1-a680-d13615e2fd0d\"}}, \"type\": \"LinearAxis\", \"id\": \"d733e172-1b90-434f-879d-6a6a7e05e095\"}, {\"attributes\": {\"plot\": {\"subtype\": \"Figure\", \"type\": \"Plot\", \"id\": \"bd807d22-386f-49ea-bbd5-ee06afdcb357\"}}, \"type\": \"PanTool\", \"id\": \"da7de27f-1e19-491e-9379-4ea10006cba0\"}, {\"attributes\": {}, \"type\": \"ToolEvents\", \"id\": \"987ef461-c529-4360-ad05-fe375b4b6335\"}, {\"attributes\": {\"data\": {\"_size\": [5.369, 15.597, 4.712, 11.422, 11.804, 6.771, 11.667, 5.382, 5.5649999999999995, 8.004999999999999, 19.256999999999998, 4.92, 6.455, 12.665, 14.259, 7.037, 6.503, 8.373000000000001, 5.131, 10.921, 6.623, 8.83, 6.891, 11.029, 8.983, 5.696, 5.409, 5.588, 4.0, 5.302, 6.513999999999999, 13.664, 11.323, 5.802, 7.003, 6.631, 6.62], \"Pulsar\": [\"1853+1303\", \"1012+5307\", \"0931-1902\", \"0613-0200\", \"1600-3053\", \"1747-4036\", \"2010-1323\", \"2043+1711\", \"2017+0603\", \"1855+09\", \"1713+0747\", \"1923+2515\", \"0030+0451\", \"1744-1134\", \"1909-3744\", \"2302+4442\", \"1640+2224\", \"0023+0923\", \"1832-0836\", \"1643-1224\", \"1738+0333\", \"1024-0719\", \"0645+5158\", \"2145-0750\", \"1455-3330\", \"1944+0907\", \"1949+3106\", \"1741+1351\", \"1937+21\", \"1953+29\", \"2214+3000\", \"1918-0642\", \"1614-2230\", \"1903+0327\", \"0340+4130\", \"1910+1256\", \"2317+1439\"], \"TOAs\": [1369, 11597, 712, 7422, 7804, 2771, 7667, 1382, 1565, 4005, 15257, 920, 2455, 8665, 10259, 3037, 2503, 4373, 1131, 6921, 2623, 4830, 2891, 7029, 4983, 1696, 1409, 1588, 0, 1302, 2514, 9664, 7323, 1802, 3003, 2631, 2620], \"Period\": [0.0040918, 0.00525575, 0.00463803, 0.00306184, 0.00359793, 0.00164561, 0.00522327, 0.00237988, 0.00289622, 0.0053621, 0.00457014, 0.00378816, 0.00486545, 0.00407455, 0.00294711, 0.00519232, 0.00316332, 0.0030502, 0.00271911, 0.00462164, 0.0058501000000000004, 0.0051622, 0.0088535, 0.01605242, 0.0079872, 0.0051852, 0.01313818, 0.00374715, 0.00155781, 0.00613317, 0.00311923, 0.00764587, 0.00315081, 0.00214991, 0.00329934, 0.00498358, 0.00344525], \"Binary\": [\"Y\", \"Y\", \"-\", \"Y\", \"Y\", \"-\", \"-\", \"Y\", \"Y\", \"Y\", \"Y\", \"-\", \"-\", \"-\", \"Y\", \"Y\", \"Y\", \"Y\", \"-\", \"Y\", \"Y\", \"-\", \"-\", \"Y\", \"Y\", \"-\", \"Y\", \"Y\", \"-\", \"Y\", \"Y\", \"Y\", \"Y\", \"Y\", \"-\", \"Y\", \"Y\"], \"RMS\": [1.23, 2.7, 3.67, 1.35, 1.01, 4.6, 2.58, 0.6, 0.72, 5.52, 0.19, 4.4, 4.6, 0.72, 0.2, 5.79, 0.65, 1.34, 1.87, 3.05, 1.37, 1.75, 0.57, 1.58, 4.36, 3.2, 4.6, 0.75, 0.91, 30.96, 1.66, 1.82, 1.37, 3.13, 5.14, 2.07, 0.85], \"index\": [0, 1, 2, 3, 4, 5, 6, 7, 8, 9, 10, 11, 12, 13, 14, 15, 16, 17, 18, 19, 20, 21, 22, 23, 24, 25, 26, 27, 28, 29, 30, 31, 32, 33, 34, 35, 36], \"_color\": [\"red\", \"red\", \"blue\", \"red\", \"red\", \"blue\", \"blue\", \"red\", \"red\", \"red\", \"red\", \"blue\", \"blue\", \"blue\", \"red\", \"red\", \"red\", \"red\", \"blue\", \"red\", \"red\", \"blue\", \"blue\", \"red\", \"red\", \"blue\", \"red\", \"red\", \"blue\", \"red\", \"red\", \"red\", \"red\", \"red\", \"blue\", \"red\", \"red\"], \"DM\": [30.57, 9.02, 41.49, 38.78, 52.33, 152.96, 22.16, 20.71, 23.92, 13.3, 15.99, 18.86, 4.33, 3.14, 10.39, 13.73, 18.46, 14.32, 28.19, 62.42, 33.77, 6.49, 18.25, 9.03, 13.57, 24.34, 164.13, 24.2, 71.02, 104.5, 22.56, 26.6, 34.48, 297.56, 49.58, 38.06, 21.9], \"Period Derivative\": [8.7164e-21, 1.71268e-20, 4.0544e-21, 9.590399999999999e-21, 9.5005e-21, 1.3156499999999999e-20, 4.8245e-21, 5.2427e-21, 8.0006e-21, 1.7841099999999998e-20, 8.529700000000001e-21, 9.552500000000001e-21, 1.01741e-20, 8.933899999999999e-21, 1.40254e-20, 1.3771e-20, 2.8175e-21, 1.1421100000000001e-20, 8.7345e-21, 1.8465099999999998e-20, 2.41148e-20, 1.85516e-20, 4.920000000000001e-21, 2.97898e-20, 2.4303300000000002e-20, 1.7338599999999998e-20, 9.957609999999999e-20, 3.0216900000000006e-20, 1.0510060000000001e-19, 2.96849e-20, 1.4701299999999997e-20, 2.56913e-20, 9.6242e-21, 1.88105e-20, 7.0774e-21, 9.677700000000001e-21, 2.4297e-21], \"Raw Profiles\": [520, 726, 125, 688, 603, 210, 403, 468, 435, 696, 1609, 319, 546, 670, 857, 218, 647, 335, 121, 755, 478, 389, 232, 570, 726, 505, 362, 519, 1312, 384, 446, 693, 433, 479, 215, 554, 743]}, \"column_names\": [\"_size\", \"Pulsar\", \"Binary\", \"Raw Profiles\", \"TOAs\", \"RMS\", \"index\", \"_color\", \"DM\", \"Period Derivative\", \"Period\"], \"callback\": null}, \"type\": \"ColumnDataSource\", \"id\": \"43e45807-fe00-4b14-b652-c3b26abccefe\"}, {\"attributes\": {\"dimension\": 1, \"ticker\": {\"type\": \"BasicTicker\", \"id\": \"fadcc071-34d8-40a9-b93c-c86210fe6cac\"}, \"plot\": {\"subtype\": \"Figure\", \"type\": \"Plot\", \"id\": \"bd807d22-386f-49ea-bbd5-ee06afdcb357\"}}, \"type\": \"Grid\", \"id\": \"97a88a49-f1ac-4f41-adfb-0f785a18f15b\"}, {\"attributes\": {\"line_alpha\": {\"value\": 0.4}, \"line_color\": {\"field\": \"_color\"}, \"fill_color\": {\"field\": \"_color\"}, \"size\": {\"units\": \"screen\", \"field\": \"_size\"}, \"fill_alpha\": {\"value\": 0.4}, \"x\": {\"field\": \"Period\"}, \"y\": {\"field\": \"Period Derivative\"}}, \"type\": \"Circle\", \"id\": \"65caafcd-5f7d-408b-997f-ad3499308db8\"}, {\"attributes\": {\"plot\": {\"subtype\": \"Figure\", \"type\": \"Plot\", \"id\": \"bd807d22-386f-49ea-bbd5-ee06afdcb357\"}, \"ticker\": {\"type\": \"BasicTicker\", \"id\": \"fadcc071-34d8-40a9-b93c-c86210fe6cac\"}, \"formatter\": {\"type\": \"BasicTickFormatter\", \"id\": \"1c4c9eea-89bd-4b33-ae30-bbe83259ce4c\"}}, \"type\": \"LinearAxis\", \"id\": \"0adfe3f2-8996-4cc6-b71f-12a77c901c53\"}, {\"attributes\": {\"plot\": {\"subtype\": \"Figure\", \"type\": \"Plot\", \"id\": \"bd807d22-386f-49ea-bbd5-ee06afdcb357\"}}, \"type\": \"ResetTool\", \"id\": \"c6d79263-aad6-4ad9-a00a-8f75a7df398b\"}, {\"attributes\": {}, \"type\": \"BasicTicker\", \"id\": \"fadcc071-34d8-40a9-b93c-c86210fe6cac\"}, {\"attributes\": {\"line_alpha\": {\"value\": 1.0}, \"line_color\": {\"value\": \"black\"}, \"plot\": null, \"line_dash\": [4, 4], \"fill_alpha\": {\"value\": 0.5}, \"level\": \"overlay\", \"line_width\": {\"value\": 2}, \"right_units\": \"screen\", \"fill_color\": {\"value\": \"lightgrey\"}, \"top_units\": \"screen\", \"bottom_units\": \"screen\", \"render_mode\": \"css\", \"left_units\": \"screen\"}, \"type\": \"BoxAnnotation\", \"id\": \"83da3352-2e61-4956-aee8-0f749c7d111a\"}, {\"attributes\": {}, \"type\": \"BasicTickFormatter\", \"id\": \"229e0528-8e22-41a1-a680-d13615e2fd0d\"}, {\"attributes\": {}, \"type\": \"BasicTicker\", \"id\": \"45342faf-5201-4642-981d-664a2217240b\"}, {\"attributes\": {\"plot\": {\"subtype\": \"Figure\", \"type\": \"Plot\", \"id\": \"bd807d22-386f-49ea-bbd5-ee06afdcb357\"}}, \"type\": \"HelpTool\", \"id\": \"408e06b7-c8de-492c-ad0a-bb862a9987a9\"}, {\"attributes\": {\"callback\": null}, \"type\": \"DataRange1d\", \"id\": \"a3f38567-1cee-4c0f-af36-f6b2a4312b0c\"}, {\"attributes\": {\"plot\": {\"subtype\": \"Figure\", \"type\": \"Plot\", \"id\": \"bd807d22-386f-49ea-bbd5-ee06afdcb357\"}}, \"type\": \"WheelZoomTool\", \"id\": \"9a8e1457-80ed-4592-bd80-05cef88d2160\"}, {\"attributes\": {\"left\": [{\"type\": \"LinearAxis\", \"id\": \"0adfe3f2-8996-4cc6-b71f-12a77c901c53\"}], \"y_range\": {\"type\": \"DataRange1d\", \"id\": \"a3f38567-1cee-4c0f-af36-f6b2a4312b0c\"}, \"renderers\": [{\"type\": \"LinearAxis\", \"id\": \"d733e172-1b90-434f-879d-6a6a7e05e095\"}, {\"type\": \"Grid\", \"id\": \"4a553437-0fb4-44be-9d9b-8078e034a8cf\"}, {\"type\": \"LinearAxis\", \"id\": \"0adfe3f2-8996-4cc6-b71f-12a77c901c53\"}, {\"type\": \"Grid\", \"id\": \"97a88a49-f1ac-4f41-adfb-0f785a18f15b\"}, {\"type\": \"BoxAnnotation\", \"id\": \"83da3352-2e61-4956-aee8-0f749c7d111a\"}, {\"type\": \"GlyphRenderer\", \"id\": \"101f9e09-6c9d-46b8-9641-c332d719523c\"}], \"tool_events\": {\"type\": \"ToolEvents\", \"id\": \"987ef461-c529-4360-ad05-fe375b4b6335\"}, \"x_range\": {\"type\": \"DataRange1d\", \"id\": \"6e65b829-b65c-469f-b3ad-177b6ff48c8a\"}, \"below\": [{\"type\": \"LinearAxis\", \"id\": \"d733e172-1b90-434f-879d-6a6a7e05e095\"}], \"tools\": [{\"type\": \"PanTool\", \"id\": \"da7de27f-1e19-491e-9379-4ea10006cba0\"}, {\"type\": \"WheelZoomTool\", \"id\": \"9a8e1457-80ed-4592-bd80-05cef88d2160\"}, {\"type\": \"BoxZoomTool\", \"id\": \"4f3bc6e9-2442-4c1e-8ad8-8afcc85f617f\"}, {\"type\": \"PreviewSaveTool\", \"id\": \"40933b29-1e78-4af6-a1c6-fb405bbcf0bb\"}, {\"type\": \"ResizeTool\", \"id\": \"6c042146-76e2-4f80-8246-d6f832aed170\"}, {\"type\": \"ResetTool\", \"id\": \"c6d79263-aad6-4ad9-a00a-8f75a7df398b\"}, {\"type\": \"HelpTool\", \"id\": \"408e06b7-c8de-492c-ad0a-bb862a9987a9\"}, {\"type\": \"HoverTool\", \"id\": \"87fddb37-8175-4360-aeea-5185080a21ef\"}]}, \"subtype\": \"Figure\", \"type\": \"Plot\", \"id\": \"bd807d22-386f-49ea-bbd5-ee06afdcb357\"}], \"root_ids\": [\"bd807d22-386f-49ea-bbd5-ee06afdcb357\"]}}};\n",
       "            var render_items = [{\"docid\": \"c9cb5669-e9a0-4985-ab30-42628b804aea\", \"modelid\": \"bd807d22-386f-49ea-bbd5-ee06afdcb357\", \"elementid\": \"434589f2-a25a-4091-ac51-884177f78f9a\", \"notebook_comms_target\": \"b4252b73-250d-4d57-b761-bdec13a7ccb7\"}];\n",
       "            \n",
       "            Bokeh.embed.embed_items(docs_json, render_items);\n",
       "        });\n",
       "      },\n",
       "      function(Bokeh) {\n",
       "      }\n",
       "    ];\n",
       "  \n",
       "    function run_inline_js() {\n",
       "      for (var i = 0; i < inline_js.length; i++) {\n",
       "        inline_js[i](window.Bokeh);\n",
       "      }\n",
       "    }\n",
       "  \n",
       "    if (window._bokeh_is_loading === 0) {\n",
       "      console.log(\"Bokeh: BokehJS loaded, going straight to plotting\");\n",
       "      run_inline_js();\n",
       "    } else {\n",
       "      load_libs(js_urls, function() {\n",
       "        console.log(\"Bokeh: BokehJS plotting callback run at\", now());\n",
       "        run_inline_js();\n",
       "      });\n",
       "    }\n",
       "  }(this));\n",
       "</script>"
      ]
     },
     "metadata": {},
     "output_type": "display_data"
    },
    {
     "data": {
      "text/plain": [
       "<bokeh.io._CommsHandle at 0x8bb42b0>"
      ]
     },
     "execution_count": 4,
     "metadata": {},
     "output_type": "execute_result"
    }
   ],
   "source": [
    "p = plt.figure()\n",
    "\n",
    "p.circle(x='Period', y='Period Derivative', size='_size', alpha=0.4, color='_color', source=mdls.ColumnDataSource(data))\n",
    "p.add_tools(tls.HoverTool(tooltips = [(n, '@{%s}' % n) for n in data.axes[1] if not n[0] == '_']))\n",
    "plt.show(p)"
   ]
  },
  {
   "cell_type": "code",
   "execution_count": null,
   "metadata": {
    "collapsed": true
   },
   "outputs": [],
   "source": []
  }
 ],
 "metadata": {
  "kernelspec": {
   "display_name": "Python 3",
   "language": "python",
   "name": "python3"
  },
  "language_info": {
   "codemirror_mode": {
    "name": "ipython",
    "version": 3
   },
   "file_extension": ".py",
   "mimetype": "text/x-python",
   "name": "python",
   "nbconvert_exporter": "python",
   "pygments_lexer": "ipython3",
   "version": "3.5.1"
  }
 },
 "nbformat": 4,
 "nbformat_minor": 0
}
